{
  "cells": [
    {
      "cell_type": "markdown",
      "metadata": {
        "id": "view-in-github",
        "colab_type": "text"
      },
      "source": [
        "<a href=\"https://colab.research.google.com/github/Kira1108/play-image-gen/blob/main/StableDiffusionGen.ipynb\" target=\"_parent\"><img src=\"https://colab.research.google.com/assets/colab-badge.svg\" alt=\"Open In Colab\"/></a>"
      ]
    },
    {
      "cell_type": "code",
      "execution_count": null,
      "metadata": {
        "cellView": "form",
        "id": "7qz8N4cFB2Eu"
      },
      "outputs": [],
      "source": [
        "#@title StableDiffusion\n",
        "from IPython.display import clear_output\n",
        "!pip install diffusers transformers datasets accelerate pillow\n",
        "\n",
        "from diffusers import StableDiffusionPipeline  \n",
        "from diffusers import (\n",
        "    DDPMScheduler,\n",
        "    DDIMScheduler,\n",
        "    PNDMScheduler,\n",
        "    LMSDiscreteScheduler,\n",
        "    EulerDiscreteScheduler,\n",
        "    EulerAncestralDiscreteScheduler,\n",
        "    DPMSolverMultistepScheduler\n",
        ")                                                                                                                                                                                         \n",
        "                                                                                                                                                                                                                                                 \n",
        "import torch\n",
        "from PIL import Image  \n",
        "    \n",
        "\n",
        "clear_output()"
      ]
    },
    {
      "cell_type": "code",
      "execution_count": null,
      "metadata": {
        "cellView": "form",
        "id": "YL-oRCBFCsv5"
      },
      "outputs": [],
      "source": [
        "#@title Model Selection\n",
        "model_id:str=\"runwayml/stable-diffusion-v1-5\" #@param \n",
        "pipe = StableDiffusionPipeline.from_pretrained(model_id, torch_dtype = torch.float16)\n",
        "pipe.to(\"cuda\")\n",
        "clear_output()"
      ]
    },
    {
      "cell_type": "code",
      "execution_count": null,
      "metadata": {
        "id": "IGt-zcpKMhBm"
      },
      "outputs": [],
      "source": [
        "import ipywidgets as widgets\n",
        "from IPython.display import display"
      ]
    },
    {
      "cell_type": "code",
      "execution_count": null,
      "metadata": {
        "cellView": "form",
        "colab": {
          "background_save": true,
          "base_uri": "https://localhost:8080/",
          "height": 810
        },
        "id": "wzF4YuZCC1B2",
        "outputId": "f2b6e92d-dfb9-4671-9865-d63d9d973070"
      },
      "outputs": [],
      "source": [
        "#@title Generate Images\n",
        "\n",
        "# config sequential\n",
        "sequential = False #@param {type:\"boolean\"}\n",
        "if sequential:\n",
        "    pipe.enable_attention_slicing()\n",
        "\n",
        "# config scheduler\n",
        "schedulers = {\n",
        "    'ddms':DDPMScheduler,\n",
        "    'ddim':DDIMScheduler,\n",
        "    'pndm':PNDMScheduler,\n",
        "    'lms':LMSDiscreteScheduler,\n",
        "    'euler_dis':EulerDiscreteScheduler,\n",
        "    'euler_an':EulerAncestralDiscreteScheduler,\n",
        "    'dpmsolv':DPMSolverMultistepScheduler\n",
        "}\n",
        "\n",
        "scheduler = 'default' #@param ['default','ddms', 'ddim', 'pndm', 'lms', 'euler_dis', 'euler_an', 'dpmsolv'] {\"type\":\"raw\"}\n",
        "\n",
        "if scheduler != \"default\":\n",
        "    pipe.scheduler = scheduler\n",
        "\n",
        "\n",
        "seed = -1 #@param {\"type\":\"integer\"}\n",
        "if seed >= 0:\n",
        "    generator = torch.Generator(\"cuda\").manual_seed(0) \n",
        "else:\n",
        "    generator = None\n",
        "\n",
        "num_inference_steps = 20 #@param {type:\"slider\", min:1, max:100, step:1}\n",
        "\n",
        "prompt = \"A dog\" #@param {\"type\":\"string\"}\n",
        "\n",
        "params = {\n",
        "    \"generator\":generator,\n",
        "    \"num_inference_steps\":num_inference_steps\n",
        "}\n",
        "\n",
        "params ={k:v for k,v in params.items() if v is not None}\n",
        "\n",
        "def get_inputs(batch_size=1):                                                                                                                                                                                                                 \n",
        "    generator = [torch.Generator(\"cuda\").manual_seed(i) for i in range(batch_size)]                                                                                                                                                             \n",
        "    prompts = batch_size * [prompt]                                                                                                                                                                                                             \n",
        "    num_inference_steps = 20                                                                                                                                                                                                                    \n",
        "\n",
        "    return {\"prompt\": prompts, \"generator\": generator, \"num_inference_steps\": num_inference_steps}  \n",
        "                                                                                                                                                                                                                    \n",
        "\n",
        "def image_grid(imgs, rows=2, cols=2):                                                                                                                                                                                                         \n",
        "    w, h = imgs[0].size                                                                                                                                                                                                                       \n",
        "    grid = Image.new('RGB', size=(cols*w, rows*h))                                                                                                                                                                                            \n",
        "                                                                                                                                                                                                                                                \n",
        "    for i, img in enumerate(imgs):                                                                                                                                                                                                            \n",
        "        grid.paste(img, box=(i%cols*w, i//cols*h))                                                                                                                                                                                            \n",
        "    return grid  \n",
        "\n",
        "n_images = 8 #@param {\"type\":\"integer\"}\n",
        "n_rows = 2 #@param {\"type\":\"integer\"}\n",
        "n_cols = 4 #@param {\"type\":\"integer\"}\n",
        "\n",
        "assert n_rows * n_cols == n_images\n",
        "\n",
        "\n",
        "images = pipe(**get_inputs(batch_size=n_images)).images\n",
        "clear_output()\n",
        "image_grid(images, n_rows, n_cols) \n"
      ]
    }
  ],
  "metadata": {
    "accelerator": "GPU",
    "colab": {
      "machine_shape": "hm",
      "provenance": [],
      "authorship_tag": "ABX9TyOpiVRKfhdljpj9YLnP5ZFn",
      "include_colab_link": true
    },
    "gpuClass": "premium",
    "kernelspec": {
      "display_name": "Python 3",
      "name": "python3"
    },
    "language_info": {
      "name": "python"
    }
  },
  "nbformat": 4,
  "nbformat_minor": 0
}